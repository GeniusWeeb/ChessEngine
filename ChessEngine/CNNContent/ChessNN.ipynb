{
 "cells": [
  {
   "cell_type": "code",
   "execution_count": 192,
   "id": "16ed5857",
   "metadata": {},
   "outputs": [],
   "source": [
    "from tensorflow.keras import layers, models \n",
    "from tensorflow.keras.models import load_model\n",
    "import json\n",
    "import numpy as np\n",
    "import pandas as pd\n",
    "import matplotlib.pyplot as plt\n",
    "from sklearn.model_selection import train_test_split\n",
    "import tensorflow as tf\n",
    "from tensorflow.keras.models import Model\n",
    "from tensorflow.keras.utils import plot_model\n",
    "from keras.callbacks import TensorBoard\n",
    "import datetime\n",
    "from sklearn.preprocessing import MinMaxScaler\n",
    "scaler = MinMaxScaler();\n"
   ]
  },
  {
   "cell_type": "code",
   "execution_count": 2,
   "id": "91bd3e1a",
   "metadata": {},
   "outputs": [
    {
     "name": "stdout",
     "output_type": "stream",
     "text": [
      "Data has been saved to output.csv.\n"
     ]
    }
   ],
   "source": [
    "import json\n",
    "import csv\n",
    "\n",
    "# Read JSON data from a file\n",
    "json_file_path = \"lichess_db_eval.json\"\n",
    "with open(json_file_path, \"r\") as file:\n",
    "    # Read each line separately\n",
    "    json_lines = file.readlines()\n",
    "\n",
    "# Create CSV file\n",
    "csv_file_path = \"output.csv\"\n",
    "with open(csv_file_path, mode=\"w\", newline=\"\") as csvfile:\n",
    "    writer = csv.writer(csvfile)\n",
    "    \n",
    "    # Write header\n",
    "    writer.writerow([\"FEN\", \"Eval Score\"])\n",
    "\n",
    "    # Parse each JSON line\n",
    "    for json_data in json_lines:\n",
    "        try:\n",
    "            # Parse JSON data\n",
    "            data = json.loads(json_data)\n",
    "\n",
    "            # Extract FEN\n",
    "            fen = data[\"fen\"]\n",
    "\n",
    "            # Extract eval scores\n",
    "            eval_scores = []\n",
    "            for pv in data[\"evals\"]:\n",
    "                if \"cp\" in pv[\"pvs\"][0]:\n",
    "                    eval_scores.append(pv[\"pvs\"][0][\"cp\"])\n",
    "                elif \"cp\" in pv:\n",
    "                    eval_scores.append(pv[\"cp\"])\n",
    "                else:\n",
    "                    continue\n",
    "\n",
    "            # Write data\n",
    "            for eval_score in eval_scores:\n",
    "                writer.writerow([fen, eval_score])\n",
    "\n",
    "        except json.JSONDecodeError as e:\n",
    "            print(f\"Error decoding JSON: {e}\")\n",
    "\n",
    "print(f\"Data has been saved to {csv_file_path}.\")\n"
   ]
  },
  {
   "cell_type": "code",
   "execution_count": 274,
   "id": "4a00bc0c",
   "metadata": {},
   "outputs": [
    {
     "data": {
      "text/plain": [
       "'rnbqkbnr/pppppppp/8/8/4P3/8/PPPP1PPP/RNBQKBNR b KQkq -'"
      ]
     },
     "execution_count": 274,
     "metadata": {},
     "output_type": "execute_result"
    }
   ],
   "source": [
    "df = pd.read_csv(\"output.csv\", nrows=100000)\n",
    "df[\"FEN\"][22]\n",
    "\n"
   ]
  },
  {
   "cell_type": "code",
   "execution_count": 275,
   "id": "e05ffc07",
   "metadata": {},
   "outputs": [
    {
     "data": {
      "text/plain": [
       "37"
      ]
     },
     "execution_count": 275,
     "metadata": {},
     "output_type": "execute_result"
    }
   ],
   "source": [
    "\n",
    "fens = df[\"FEN\"].tolist()\n",
    "evaluation_scores = df[\"Eval Score\"].tolist()\n",
    "df[\"Eval Score\"][22]"
   ]
  },
  {
   "cell_type": "code",
   "execution_count": 276,
   "id": "babfb118",
   "metadata": {},
   "outputs": [],
   "source": [
    "def fen_to_combined_input(fen):\n",
    "    board , turn ,castling   = fen.split()[:3] \n",
    "\n",
    "    board_matrix = np.zeros((8,8,12),dtype=np.int8)\n",
    "    piece_map = {'P': 0, 'N': 1, 'B': 2, 'R': 3, 'Q': 4, 'K': 5,\n",
    "               'p': 6, 'n': 7, 'b': 8, 'r': 9, 'q': 10, 'k': 11}\n",
    "    \n",
    "    for i, row in enumerate(board.split(\"/\")):\n",
    "        for j,char in enumerate(row):\n",
    "            if char in piece_map:\n",
    "                board_matrix[i,j, piece_map[char]] =1\n",
    "            else:\n",
    "                board_matrix[i,j,:] =12    \n",
    "\n",
    "    turn_vector = np.zeros(2, dtype=np.int8)\n",
    "    turn_vector[0 if turn == \"w\" else 1] = 1\n",
    "\n",
    "  # Castling options representation (4-bit binary)\n",
    "    castling_bits = 0\n",
    "    for char in castling:\n",
    "        if char in \"KQkq\":\n",
    "            castling_bits |= 1 << (ord(char) - ord(\"K\"))\n",
    "\n",
    "  # Combine representations\n",
    "    combined_input = np.concatenate((board_matrix.flatten(), turn_vector, np.array([castling_bits])), axis=0)\n",
    "\n",
    "    return combined_input            "
   ]
  },
  {
   "cell_type": "code",
   "execution_count": 277,
   "id": "c9330b9b",
   "metadata": {},
   "outputs": [],
   "source": [
    "input_tensors= []\n",
    "for fen in fens:\n",
    "    board_matrix = fen_to_combined_input(fen)[:768].reshape(8, 8, 12)  # Generate input tensors using your function\n",
    "    input_tensors.append(board_matrix)\n",
    "    #plt.imshow(board_matrix.max(axis=2), cmap='gray')\n",
    "    #plt.show()      "
   ]
  },
  {
   "cell_type": "markdown",
   "id": "89129d3c",
   "metadata": {},
   "source": []
  },
  {
   "cell_type": "code",
   "execution_count": 320,
   "id": "c560c8e8",
   "metadata": {},
   "outputs": [],
   "source": [
    "input_tensors = np.asarray(input_tensors)"
   ]
  },
  {
   "cell_type": "code",
   "execution_count": 533,
   "id": "d890c8c4",
   "metadata": {},
   "outputs": [],
   "source": [
    "\n",
    "# Input layer (matching board matrix shape)\n",
    "inputs = tf.keras.Input(shape=(8, 8, 12))\n",
    "\n",
    "# Convolutional layers (adjust as needed)\n",
    "x = tf.keras.layers.Conv2D(256, 4, activation='relu')(inputs)\n",
    "x = tf.keras.layers.Conv2D(128, 4, activation='relu')(x)\n",
    "\n",
    "\n",
    "#Pooling layer\n",
    "#x = tf.keras.layers.MaxPooling2D(2)(x)\n",
    "\n",
    "# Flatten layer\n",
    "x = tf.keras.layers.Flatten()(x)\n",
    "\n",
    "# Fully connected layers\n",
    "x = tf.keras.layers.Dense(32)(x)\n",
    "\n",
    "# Output layer (single neuron for regression)\n",
    "outputs = tf.keras.layers.Dense(1 , activation = 'relu' )(x)\n",
    "\n",
    "# Create the model\n",
    "model = tf.keras.Model(inputs=inputs, outputs=outputs)\n",
    "model.compile(loss='mae', optimizer='adam')\n",
    "\n",
    "from sklearn.preprocessing import MinMaxScaler\n",
    "scaler = MinMaxScaler();\n",
    "\n",
    "X_train, X_test, y_train, y_test = train_test_split(input_tensors, evaluation_scores, test_size=0.2)\n",
    "y_train = np.asarray(y_train)\n",
    "\n",
    "X_train_normalized = scaler.fit_transform(X_train.reshape(-1, 8 * 8 * 12)).reshape(-1, 8, 8, 12)\n",
    "X_test_normalized = scaler.transform(X_test.reshape(-1, 8 * 8 * 12)).reshape(-1, 8, 8, 12)\n",
    "\n",
    "\n",
    "y_train_normalized = scaler .fit_transform(y_train.reshape(-1, 1))\n",
    "\n",
    "#softmax loss function note"
   ]
  },
  {
   "cell_type": "code",
   "execution_count": null,
   "metadata": {},
   "outputs": [],
   "source": []
  },
  {
   "cell_type": "code",
   "execution_count": 534,
   "metadata": {},
   "outputs": [],
   "source": [
    "log_dir = \"logs/fit/\"\n",
    "tensorboard_callback = tf.keras.callbacks.TensorBoard(log_dir=log_dir, histogram_freq=2,)\n"
   ]
  },
  {
   "cell_type": "markdown",
   "id": "99421285",
   "metadata": {},
   "source": []
  },
  {
   "cell_type": "markdown",
   "id": "3521660b",
   "metadata": {},
   "source": []
  },
  {
   "cell_type": "code",
   "execution_count": 535,
   "id": "21205792",
   "metadata": {},
   "outputs": [
    {
     "name": "stdout",
     "output_type": "stream",
     "text": [
      "Epoch 1/50\n",
      "32/32 [==============================] - 1s 24ms/step - loss: 0.1930\n",
      "Epoch 2/50\n",
      "32/32 [==============================] - 1s 16ms/step - loss: 0.0190\n",
      "Epoch 3/50\n",
      "32/32 [==============================] - 1s 17ms/step - loss: 0.0130\n",
      "Epoch 4/50\n",
      "32/32 [==============================] - 0s 15ms/step - loss: 0.0129\n",
      "Epoch 5/50\n",
      "32/32 [==============================] - 1s 19ms/step - loss: 0.0108\n",
      "Epoch 6/50\n",
      "32/32 [==============================] - 1s 18ms/step - loss: 0.0098\n",
      "Epoch 7/50\n",
      "32/32 [==============================] - 1s 19ms/step - loss: 0.0097\n",
      "Epoch 8/50\n",
      "32/32 [==============================] - 1s 17ms/step - loss: 0.0120\n",
      "Epoch 9/50\n",
      "32/32 [==============================] - 1s 19ms/step - loss: 0.0114\n",
      "Epoch 10/50\n",
      "32/32 [==============================] - 0s 14ms/step - loss: 0.0114\n",
      "Epoch 11/50\n",
      "32/32 [==============================] - 1s 18ms/step - loss: 0.0098\n",
      "Epoch 12/50\n",
      "32/32 [==============================] - 1s 16ms/step - loss: 0.0086\n",
      "Epoch 13/50\n",
      "32/32 [==============================] - 1s 17ms/step - loss: 0.0083\n",
      "Epoch 14/50\n",
      "32/32 [==============================] - 1s 16ms/step - loss: 0.0085\n",
      "Epoch 15/50\n",
      "32/32 [==============================] - 1s 17ms/step - loss: 0.0086\n",
      "Epoch 16/50\n",
      "32/32 [==============================] - 1s 16ms/step - loss: 0.0086\n",
      "Epoch 17/50\n",
      "32/32 [==============================] - 1s 18ms/step - loss: 0.0085\n",
      "Epoch 18/50\n",
      "32/32 [==============================] - 1s 16ms/step - loss: 0.0080\n",
      "Epoch 19/50\n",
      "32/32 [==============================] - 1s 19ms/step - loss: 0.0079\n",
      "Epoch 20/50\n",
      "32/32 [==============================] - 0s 15ms/step - loss: 0.0081\n",
      "Epoch 21/50\n",
      "32/32 [==============================] - 1s 18ms/step - loss: 0.0079\n",
      "Epoch 22/50\n",
      "32/32 [==============================] - 0s 15ms/step - loss: 0.0075\n",
      "Epoch 23/50\n",
      "32/32 [==============================] - 1s 17ms/step - loss: 0.0078\n",
      "Epoch 24/50\n",
      "32/32 [==============================] - 1s 16ms/step - loss: 0.0074\n",
      "Epoch 25/50\n",
      "32/32 [==============================] - 1s 16ms/step - loss: 0.0072\n",
      "Epoch 26/50\n",
      "32/32 [==============================] - 0s 14ms/step - loss: 0.0071\n",
      "Epoch 27/50\n",
      "32/32 [==============================] - 1s 18ms/step - loss: 0.0077\n",
      "Epoch 28/50\n",
      "32/32 [==============================] - 1s 17ms/step - loss: 0.0072\n",
      "Epoch 29/50\n",
      "32/32 [==============================] - 1s 17ms/step - loss: 0.0082\n",
      "Epoch 30/50\n",
      "32/32 [==============================] - 0s 14ms/step - loss: 0.0104\n",
      "Epoch 31/50\n",
      "32/32 [==============================] - 1s 17ms/step - loss: 0.0090\n",
      "Epoch 32/50\n",
      "32/32 [==============================] - 0s 15ms/step - loss: 0.0084\n",
      "Epoch 33/50\n",
      "32/32 [==============================] - 1s 18ms/step - loss: 0.0067\n",
      "Epoch 34/50\n",
      "32/32 [==============================] - 0s 15ms/step - loss: 0.0064\n",
      "Epoch 35/50\n",
      "32/32 [==============================] - 1s 17ms/step - loss: 0.0065\n",
      "Epoch 36/50\n",
      "32/32 [==============================] - 0s 15ms/step - loss: 0.0069\n",
      "Epoch 37/50\n",
      "32/32 [==============================] - 1s 16ms/step - loss: 0.0066\n",
      "Epoch 38/50\n",
      "32/32 [==============================] - 1s 16ms/step - loss: 0.0066\n",
      "Epoch 39/50\n",
      "32/32 [==============================] - 1s 17ms/step - loss: 0.0065\n",
      "Epoch 40/50\n",
      "32/32 [==============================] - 0s 15ms/step - loss: 0.0066\n",
      "Epoch 41/50\n",
      "32/32 [==============================] - 1s 16ms/step - loss: 0.0065\n",
      "Epoch 42/50\n",
      "32/32 [==============================] - 0s 15ms/step - loss: 0.0066\n",
      "Epoch 43/50\n",
      "32/32 [==============================] - 1s 17ms/step - loss: 0.0062\n",
      "Epoch 44/50\n",
      "32/32 [==============================] - 1s 18ms/step - loss: 0.0061\n",
      "Epoch 45/50\n",
      "32/32 [==============================] - 0s 15ms/step - loss: 0.0071\n",
      "Epoch 46/50\n",
      "32/32 [==============================] - 0s 15ms/step - loss: 0.0068\n",
      "Epoch 47/50\n",
      "32/32 [==============================] - 1s 19ms/step - loss: 0.0063\n",
      "Epoch 48/50\n",
      "32/32 [==============================] - 1s 17ms/step - loss: 0.0061\n",
      "Epoch 49/50\n",
      "32/32 [==============================] - 1s 16ms/step - loss: 0.0059\n",
      "Epoch 50/50\n",
      "32/32 [==============================] - 0s 15ms/step - loss: 0.0064\n"
     ]
    },
    {
     "data": {
      "text/plain": [
       "<keras.src.callbacks.History at 0x60606ebe0>"
      ]
     },
     "execution_count": 535,
     "metadata": {},
     "output_type": "execute_result"
    }
   ],
   "source": [
    "#model.fit(X_train, y_train_normalized, epochs=10 ,batch_size=64)\n",
    "model.fit(X_train_normalized, y_train_normalized, epochs=50, batch_size=256, callbacks=[tensorboard_callback])"
   ]
  },
  {
   "cell_type": "code",
   "execution_count": 466,
   "id": "3a4869a8",
   "metadata": {},
   "outputs": [],
   "source": [
    "#tensorboard --logdir logs/fit\n"
   ]
  },
  {
   "cell_type": "code",
   "execution_count": 536,
   "id": "eef518e4",
   "metadata": {},
   "outputs": [],
   "source": [
    "#model.save(\"/Users/zimjanmol/Desktop/Chess-Engine/ChessEngineSolution/ChessEngine/dumb2.keras\")\n",
    "model.save(\"/Users/zimjanmol/Desktop/Chess-Engine/NN/TestedLast.keras\")"
   ]
  },
  {
   "cell_type": "code",
   "execution_count": null,
   "id": "d127bc92",
   "metadata": {},
   "outputs": [],
   "source": []
  },
  {
   "cell_type": "code",
   "execution_count": null,
   "metadata": {},
   "outputs": [],
   "source": []
  },
  {
   "cell_type": "markdown",
   "id": "64705410",
   "metadata": {},
   "source": []
  },
  {
   "cell_type": "code",
   "execution_count": 537,
   "id": "8e77d20d",
   "metadata": {},
   "outputs": [
    {
     "name": "stdout",
     "output_type": "stream",
     "text": [
      "input_50\n",
      "conv2d_98\n",
      "conv2d_99\n",
      "max_pooling2d_43\n",
      "flatten_49\n",
      "dense_98\n",
      "dense_99\n"
     ]
    }
   ],
   "source": [
    "#from keras.models import load_model\n",
    "keras_model = load_model(\"TestedLast.keras\")\n",
    "\n",
    "# Print the names of all layers in the model\n",
    "for layer in keras_model.layers:\n",
    "    print(layer.name)"
   ]
  },
  {
   "cell_type": "code",
   "execution_count": 538,
   "id": "1c1d5395",
   "metadata": {},
   "outputs": [
    {
     "name": "stdout",
     "output_type": "stream",
     "text": [
      "63/63 [==============================] - 0s 3ms/step\n"
     ]
    },
    {
     "data": {
      "image/png": "[encoded data removed]",
      "text/plain": [
       "<Figure size 640x480 with 1 Axes>"
      ]
     },
     "metadata": {},
     "output_type": "display_data"
    }
   ],
   "source": [
    "y_pred = keras_model.predict(X_test)\n",
    "y_pred\n",
    "\n",
    "import matplotlib.pyplot as plt\n",
    "\n",
    "# Assuming y_test and y_pred are your actual and predicted values\n",
    "\n",
    "plt.scatter(y_test, y_test, color='blue', label='Actual Values')\n",
    "plt.scatter(y_test, y_pred, color='red', label='Predicted Values')\n",
    "\n",
    "plt.xlabel('Actual Values')\n",
    "plt.ylabel('Predicted Values')\n",
    "plt.title('Actual vs. Predicted Values')\n",
    "plt.legend()  # Add a legend to the plot\n",
    "\n",
    "plt.show()\n"
   ]
  },
  {
   "cell_type": "code",
   "execution_count": 539,
   "metadata": {},
   "outputs": [
    {
     "name": "stdout",
     "output_type": "stream",
     "text": [
      "Mean Absolute Error: 245.9654\n"
     ]
    }
   ],
   "source": [
    "#Metrics \n",
    "from sklearn.metrics import mean_squared_error, mean_absolute_error\n",
    "mae = mean_absolute_error(y_test, y_pred)\n",
    "print(f'Mean Absolute Error: {mae:.4f}')"
   ]
  },
  {
   "cell_type": "code",
   "execution_count": 506,
   "id": "c6204ac2",
   "metadata": {},
   "outputs": [],
   "source": [
    "# Assume 'fen_string' is the FEN string you want to predict\"\n",
    "fen_string = \"rnbqkbnr/qqqppppp/8//8/PPPPPPPP/RNB1KBNR b KQkq -\"\n",
    "\n",
    "\n",
    "def GetEval():\n",
    "    # Convert FEN string to the model input format\n",
    "    input_tensor = fen_to_combined_input(fen_string)[:768].reshape(8, 8, 12)\n",
    "\n",
    "    # Reshape the input tensor to match the model's input shape\n",
    "    input_tensor = np.expand_dims(input_tensor, axis=0)\n",
    "\n",
    "    # Make a prediction using the trained model\n",
    "    predicted_evaluation = keras_model.predict(input_tensor)\n",
    "\n",
    "    return predicted_evaluation[0][0]\n",
    "\n",
    "    # Print the predicted evaluation score\n",
    "    #print(\"Predicted Evaluation:\", predicted_evaluation[0][0])\n",
    "\n"
   ]
  },
  {
   "cell_type": "code",
   "execution_count": 500,
   "id": "84097a57",
   "metadata": {},
   "outputs": [
    {
     "name": "stdout",
     "output_type": "stream",
     "text": [
      "1/1 [==============================] - 0s 14ms/step\n"
     ]
    },
    {
     "data": {
      "text/plain": [
       "0.7184607"
      ]
     },
     "execution_count": 500,
     "metadata": {},
     "output_type": "execute_result"
    }
   ],
   "source": [
    "GetEval()\n"
   ]
  },
  {
   "cell_type": "code",
   "execution_count": null,
   "id": "5faae5f4",
   "metadata": {},
   "outputs": [],
   "source": []
  },
  {
   "cell_type": "code",
   "execution_count": null,
   "id": "6f4caa12",
   "metadata": {},
   "outputs": [],
   "source": []
  },
  {
   "cell_type": "code",
   "execution_count": null,
   "metadata": {},
   "outputs": [],
   "source": []
  },
  {
   "cell_type": "code",
   "execution_count": null,
   "id": "8234ac3f",
   "metadata": {},
   "outputs": [],
   "source": []
  }
 ],
 "metadata": {
  "kernelspec": {
   "display_name": "Python 3 (ipykernel)",
   "language": "python",
   "name": "python3"
  },
  "language_info": {
   "codemirror_mode": {
    "name": "ipython",
    "version": 3
   },
   "file_extension": ".py",
   "mimetype": "text/x-python",
   "name": "python",
   "nbconvert_exporter": "python",
   "pygments_lexer": "ipython3",
   "version": "3.9.18"
  }
 },
 "nbformat": 4,
 "nbformat_minor": 5
}
